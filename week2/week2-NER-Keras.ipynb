{
 "cells": [
  {
   "cell_type": "markdown",
   "metadata": {
    "collapsed": true
   },
   "source": [
    "# Recognize named entities on Twitter with LSTMs\n",
    "\n",
    "In this assignment, you will use a recurrent neural network to solve Named Entity Recognition (NER) problem. NER is a common task in natural language processing systems. It serves for extraction such entities from the text as persons, organizations, locations, etc. In this task you will experiment to recognize named entities from Twitter.\n",
    "\n",
    "For example, we want to extract persons' and organizations' names from the text. Than for the input text:\n",
    "\n",
    "    Ian Goodfellow works for Google Brain\n",
    "\n",
    "a NER model needs to provide the following sequence of tags:\n",
    "\n",
    "    B-PER I-PER    O     O   B-ORG  I-ORG\n",
    "\n",
    "Where *B-* and *I-* prefixes stand for the beginning and inside of the entity, while *O* stands for out of tag or no tag. Markup with the prefix scheme is called *BIO markup*. This markup is introduced for distinguishing of consequent entities with similar types.\n",
    "\n",
    "A solution of the task will be based on neural networks, particularly, on Bi-Directional Long Short-Term Memory Networks (Bi-LSTMs).\n",
    "\n",
    "### Libraries\n",
    "\n",
    "For this task you will need the following libraries:\n",
    " - [Tensorflow](https://www.tensorflow.org) — an open-source software library for Machine Intelligence.\n",
    " \n",
    "In this assignment, we use Tensorflow 1.15.0. You can install it with pip:\n",
    "\n",
    "    !pip install tensorflow==1.15.0\n",
    "     \n",
    " - [Numpy](http://www.numpy.org) — a package for scientific computing.\n",
    " \n",
    "If you have never worked with Tensorflow, you would probably need to read some tutorials during your work on this assignment, e.g. [this one](https://www.tensorflow.org/tutorials/recurrent) could be a good starting point. "
   ]
  },
  {
   "cell_type": "markdown",
   "metadata": {},
   "source": [
    "### Data\n",
    "\n",
    "The following cell will download all data required for this assignment into the folder `week2/data`."
   ]
  },
  {
   "cell_type": "code",
   "execution_count": 1,
   "metadata": {},
   "outputs": [
    {
     "name": "stdout",
     "output_type": "stream",
     "text": [
      "File data\\train.txt is already downloaded.\n",
      "File data\\validation.txt is already downloaded.\n",
      "File data\\test.txt is already downloaded.\n"
     ]
    }
   ],
   "source": [
    "try:\n",
    "    import google.colab\n",
    "    IN_COLAB = True\n",
    "except:\n",
    "    IN_COLAB = False\n",
    "\n",
    "if IN_COLAB:\n",
    "    ! wget https://raw.githubusercontent.com/hse-aml/natural-language-processing/master/setup_google_colab.py -O setup_google_colab.py\n",
    "    import setup_google_colab\n",
    "    setup_google_colab.setup_week2()\n",
    "\n",
    "import sys\n",
    "sys.path.append(\"..\")\n",
    "from common.download_utils import download_week2_resources\n",
    "\n",
    "download_week2_resources()"
   ]
  },
  {
   "cell_type": "markdown",
   "metadata": {},
   "source": [
    "### Load the Twitter Named Entity Recognition corpus\n",
    "\n",
    "We will work with a corpus, which contains tweets with NE tags. Every line of a file contains a pair of a token (word/punctuation symbol) and a tag, separated by a whitespace. Different tweets are separated by an empty line.\n",
    "\n",
    "The function *read_data* reads a corpus from the *file_path* and returns two lists: one with tokens and one with the corresponding tags. You need to complete this function by adding a code, which will replace a user's nickname to `<USR>` token and any URL to `<URL>` token. You could think that a URL and a nickname are just strings which start with *http://* or *https://* in case of URLs and a *@* symbol for nicknames."
   ]
  },
  {
   "cell_type": "code",
   "execution_count": 2,
   "metadata": {},
   "outputs": [],
   "source": [
    "import numpy as np\n",
    "import matplotlib.pyplot as plt"
   ]
  },
  {
   "cell_type": "code",
   "execution_count": 3,
   "metadata": {},
   "outputs": [],
   "source": [
    "def read_data(file_path):\n",
    "    tokens = []\n",
    "    tags = []\n",
    "    \n",
    "    tweet_tokens = []\n",
    "    tweet_tags = []\n",
    "    for line in open(file_path, encoding='utf-8'):\n",
    "        line = line.strip()\n",
    "        if not line:\n",
    "            if tweet_tokens:\n",
    "                tokens.append(tweet_tokens)\n",
    "                tags.append(tweet_tags)\n",
    "            tweet_tokens = []\n",
    "            tweet_tags = []\n",
    "        else:\n",
    "            token, tag = line.split()\n",
    "            # Replace all urls with <URL> token\n",
    "            # Replace all users with <USR> token\n",
    "            ######################################\n",
    "            ######### YOUR CODE HERE #############\n",
    "            ######################################\n",
    "            if token[0] == '@':\n",
    "                token = \"<USR>\"\n",
    "            if token[:4] == 'http':\n",
    "                token = \"<URL>\"\n",
    "            \n",
    "            tweet_tokens.append(token)\n",
    "            tweet_tags.append(tag)\n",
    "            \n",
    "    return tokens, tags"
   ]
  },
  {
   "cell_type": "markdown",
   "metadata": {},
   "source": [
    "And now we can load three separate parts of the dataset:\n",
    " - *train* data for training the model;\n",
    " - *validation* data for evaluation and hyperparameters tuning;\n",
    " - *test* data for final evaluation of the model."
   ]
  },
  {
   "cell_type": "code",
   "execution_count": 4,
   "metadata": {},
   "outputs": [],
   "source": [
    "train_tokens, train_tags = read_data('data/train.txt')\n",
    "validation_tokens, validation_tags = read_data('data/validation.txt')\n",
    "test_tokens, test_tags = read_data('data/test.txt')"
   ]
  },
  {
   "cell_type": "markdown",
   "metadata": {},
   "source": [
    "You should always understand what kind of data you deal with. For this purpose, you can print the data running the following cell:"
   ]
  },
  {
   "cell_type": "code",
   "execution_count": 6,
   "metadata": {},
   "outputs": [
    {
     "name": "stdout",
     "output_type": "stream",
     "text": [
      "RT\tO\n",
      "<USR>\tO\n",
      ":\tO\n",
      "Online\tO\n",
      "ticket\tO\n",
      "sales\tO\n",
      "for\tO\n",
      "Ghostland\tB-musicartist\n",
      "Observatory\tI-musicartist\n",
      "extended\tO\n",
      "until\tO\n",
      "6\tO\n",
      "PM\tO\n",
      "EST\tO\n",
      "due\tO\n",
      "to\tO\n",
      "high\tO\n",
      "demand\tO\n",
      ".\tO\n",
      "Get\tO\n",
      "them\tO\n",
      "before\tO\n",
      "they\tO\n",
      "sell\tO\n",
      "out\tO\n",
      "...\tO\n",
      "\n",
      "Apple\tB-product\n",
      "MacBook\tI-product\n",
      "Pro\tI-product\n",
      "A1278\tI-product\n",
      "13.3\tI-product\n",
      "\"\tI-product\n",
      "Laptop\tI-product\n",
      "-\tI-product\n",
      "MD101LL/A\tI-product\n",
      "(\tO\n",
      "June\tO\n",
      ",\tO\n",
      "2012\tO\n",
      ")\tO\n",
      "-\tO\n",
      "Full\tO\n",
      "read\tO\n",
      "by\tO\n",
      "eBay\tB-company\n",
      "<URL>\tO\n",
      "<URL>\tO\n",
      "\n",
      "Happy\tO\n",
      "Birthday\tO\n",
      "<USR>\tO\n",
      "!\tO\n",
      "May\tO\n",
      "Allah\tB-person\n",
      "s.w.t\tO\n",
      "bless\tO\n",
      "you\tO\n",
      "with\tO\n",
      "goodness\tO\n",
      "and\tO\n",
      "happiness\tO\n",
      ".\tO\n",
      "\n"
     ]
    }
   ],
   "source": [
    "for i in range(3):\n",
    "    for token, tag in zip(train_tokens[i], train_tags[i]):\n",
    "        print('%s\\t%s' % (token, tag))\n",
    "    print()"
   ]
  },
  {
   "cell_type": "markdown",
   "metadata": {},
   "source": [
    "### Prepare dictionaries\n",
    "\n",
    "To train a neural network, we will use two mappings: \n",
    "- {token}$\\to${token id}: address the row in embeddings matrix for the current token;\n",
    "- {tag}$\\to${tag id}: one-hot ground truth probability distribution vectors for computing the loss at the output of the network.\n",
    "\n",
    "Now you need to implement the function *build_dict* which will return {token or tag}$\\to${index} and vice versa. "
   ]
  },
  {
   "cell_type": "code",
   "execution_count": 7,
   "metadata": {},
   "outputs": [],
   "source": [
    "from collections import defaultdict"
   ]
  },
  {
   "cell_type": "code",
   "execution_count": 8,
   "metadata": {},
   "outputs": [],
   "source": [
    "def build_dict(tokens_or_tags, special_tokens):\n",
    "    \"\"\"\n",
    "        tokens_or_tags: a list of lists of tokens or tags\n",
    "        special_tokens: some special tokens\n",
    "    \"\"\"\n",
    "    # Create a dictionary with default value 0\n",
    "    tok2idx = defaultdict(lambda: 0)\n",
    "    idx2tok = []\n",
    "    \n",
    "    # Create mappings from tokens (or tags) to indices and vice versa.\n",
    "    # At first, add special tokens (or tags) to the dictionaries.\n",
    "    # The first special token must have index 0.\n",
    "    \n",
    "    # Mapping tok2idx should contain each token or tag only once. \n",
    "    # To do so, you should:\n",
    "    # 1. extract unique tokens/tags from the tokens_or_tags variable, which is not\n",
    "    #    occur in special_tokens (because they could have non-empty intersection)\n",
    "    # 2. index them (for example, you can add them into the list idx2tok\n",
    "    # 3. for each token/tag save the index into tok2idx).\n",
    "    \n",
    "    ######################################\n",
    "    ######### YOUR CODE HERE #############\n",
    "    ######################################\n",
    "    \n",
    "    #Extract unique tokens from tokens_\n",
    "\n",
    "    tokens_or_tags_list =[]\n",
    "    \n",
    "    for i in tokens_or_tags:\n",
    "        tokens_or_tags_list += i\n",
    "    \n",
    "    not_special_tokens_or_tags = list(set(tokens_or_tags_list))\n",
    "    \n",
    "    for i in special_tokens:\n",
    "        if i in not_special_tokens_or_tags:\n",
    "            not_special_tokens_or_tags.remove(i)\n",
    "    \n",
    "    idx2tok = special_tokens + not_special_tokens_or_tags\n",
    "    \n",
    "    for i in range(len(idx2tok)):\n",
    "        tok2idx[idx2tok[i]] = i\n",
    "    \n",
    "    return tok2idx, idx2tok"
   ]
  },
  {
   "cell_type": "markdown",
   "metadata": {},
   "source": [
    "After implementing the function *build_dict* you can make dictionaries for tokens and tags. Special tokens in our case will be:\n",
    " - `<UNK>` token for out of vocabulary tokens;\n",
    " - `<PAD>` token for padding sentence to the same length when we create batches of sentences."
   ]
  },
  {
   "cell_type": "code",
   "execution_count": 9,
   "metadata": {},
   "outputs": [],
   "source": [
    "special_tokens = ['<UNK>', '<PAD>']\n",
    "special_tags = ['O']\n",
    "\n",
    "# Create dictionaries \n",
    "token2idx, idx2token = build_dict(train_tokens + validation_tokens, special_tokens)\n",
    "tag2idx, idx2tag = build_dict(train_tags, special_tags)"
   ]
  },
  {
   "cell_type": "markdown",
   "metadata": {},
   "source": [
    "The next additional functions will help you to create the mapping between tokens and ids for a sentence. "
   ]
  },
  {
   "cell_type": "code",
   "execution_count": 10,
   "metadata": {},
   "outputs": [],
   "source": [
    "def words2idxs(tokens_list):\n",
    "    return [token2idx[word] for word in tokens_list]\n",
    "\n",
    "def tags2idxs(tags_list):\n",
    "    return [tag2idx[tag] for tag in tags_list]\n",
    "\n",
    "def idxs2words(idxs):\n",
    "    return [idx2token[idx] for idx in idxs]\n",
    "\n",
    "def idxs2tags(idxs):\n",
    "    return [idx2tag[idx] for idx in idxs]"
   ]
  },
  {
   "cell_type": "markdown",
   "metadata": {},
   "source": [
    "### Generate batches\n",
    "\n",
    "Neural Networks are usually trained with batches. It means that weight updates of the network are based on several sequences at every single time. The tricky part is that all sequences within a batch need to have the same length. So we will pad them with a special `<PAD>` token. It is also a good practice to provide RNN with sequence lengths, so it can skip computations for padding parts. We provide the batching function *batches_generator* readily available for you to save time. "
   ]
  },
  {
   "cell_type": "code",
   "execution_count": 118,
   "metadata": {},
   "outputs": [],
   "source": [
    "# tweets de longueur irrégulière ->  <PAD> token\n",
    "# formalisation de chaque tweet avec un PAD au début et n à la fin\n",
    "\n",
    "def initialize_data(x_data_in,y_data_in):\n",
    "    max_length = max([len(i) for i in x_data_in])\n",
    "    x_data_out = []\n",
    "    y_data_out = []\n",
    "    for i in range(len(x_data_in)):\n",
    "        length = len(x_data_in[i])\n",
    "        add = (max_length + 1 - length)\n",
    "        x_data_out.append(x_data_in[i] + ['<PAD>']*add)\n",
    "        y_data_out.append(y_data_in[i] + ['O']*add)\n",
    "    \n",
    "    indexes_x = [words2idxs(i) for i in x_data_out]\n",
    "    indexes_y = [tags2idxs(i) for i in y_data_out]\n",
    "    \n",
    "    return indexes_x,indexes_y\n",
    "    \n",
    "def one_hot(y_data):\n",
    "    y_oh = []\n",
    "    for i in y_data:\n",
    "        y_i = [0]*21\n",
    "        y_i[i] = 1\n",
    "        y_oh.append(y_i)\n",
    "    return y_oh\n",
    "\n",
    "\n",
    "def initialize_input(nb_input,x_data,y_data):\n",
    "    \n",
    "    x_data,y_data = initialize_data(x_data,y_data)\n",
    "    x_data = np.concatenate(x_data)\n",
    "    y_data = np.concatenate(y_data)\n",
    "    y_data = one_hot(y_data)\n",
    "    \n",
    "    input_i = x_data[:nb_input]\n",
    "    input_x = [input_i]\n",
    "    for i in range(nb_input+1,len(x_data)):\n",
    "        input_i = np.concatenate([input_i[1:],[x_data[i]]])\n",
    "        input_x.append(input_i)\n",
    "        \n",
    "    input_x = np.array(input_x)\n",
    "    input_y = np.array(y_data[nb_input:])\n",
    "    input_x = input_x.reshape(input_x.shape[0],1,input_x.shape[1])\n",
    "    \n",
    "    return input_x,input_y\n"
   ]
  },
  {
   "cell_type": "markdown",
   "metadata": {},
   "source": [
    "x_train,y_train = initialize_data(train_tokens,train_tags)\n",
    "x_test,y_test = initialize_data(test_tokens,test_tags)\n",
    "x_val,y_val = initialize_data(validation_tokens,validation_tags)\n",
    "\n",
    "x_train = np.concatenate(x_train)\n",
    "y_train = one_hot(np.concatenate(y_train))\n",
    "\n",
    "x_test = np.concatenate(x_test)\n",
    "y_test = one_hot(np.concatenate(y_test))\n",
    "\n",
    "x_val = np.concatenate(x_val)\n",
    "y_val = one_hot(np.concatenate(y_val))\n",
    "\n"
   ]
  },
  {
   "cell_type": "code",
   "execution_count": 119,
   "metadata": {},
   "outputs": [],
   "source": [
    "nb_inputs = 30\n",
    "\n",
    "x_train,y_train = initialize_input(nb_inputs,train_tokens,train_tags)\n",
    "x_val,y_val = initialize_input(nb_inputs,validation_tokens,validation_tags)\n",
    "x_test,y_test = initialize_input(nb_inputs,test_tokens,test_tags)"
   ]
  },
  {
   "cell_type": "code",
   "execution_count": 120,
   "metadata": {},
   "outputs": [
    {
     "data": {
      "text/plain": [
       "array([[1, 0, 0, ..., 0, 0, 0],\n",
       "       [1, 0, 0, ..., 0, 0, 0],\n",
       "       [1, 0, 0, ..., 0, 0, 0],\n",
       "       ...,\n",
       "       [1, 0, 0, ..., 0, 0, 0],\n",
       "       [1, 0, 0, ..., 0, 0, 0],\n",
       "       [1, 0, 0, ..., 0, 0, 0]])"
      ]
     },
     "execution_count": 120,
     "metadata": {},
     "output_type": "execute_result"
    }
   ],
   "source": [
    "#y_train = np.array([[0]*21]*len(x_train))\n",
    "#y_train[:,0] = 1"
   ]
  },
  {
   "cell_type": "code",
   "execution_count": 225,
   "metadata": {},
   "outputs": [
    {
     "name": "stdout",
     "output_type": "stream",
     "text": [
      "['PM', 'EST', 'due', 'to', 'high', 'demand', '.', 'Get', 'them', 'before', 'they', 'sell', 'out', '...', '<PAD>', '<PAD>', '<PAD>', '<PAD>', '<PAD>', '<PAD>', '<PAD>', '<PAD>', '<PAD>', '<PAD>', '<PAD>', '<PAD>', '<PAD>', '<PAD>', '<PAD>', 'Apple']\n"
     ]
    }
   ],
   "source": [
    "print(idxs2words(x_train[12][0]))\n"
   ]
  },
  {
   "cell_type": "code",
   "execution_count": 226,
   "metadata": {},
   "outputs": [
    {
     "name": "stdout",
     "output_type": "stream",
     "text": [
      "B-product\n"
     ]
    }
   ],
   "source": [
    "print(idx2tag[np.argmax(y_train[12])])\n"
   ]
  },
  {
   "cell_type": "markdown",
   "metadata": {},
   "source": [
    "## Build a recurrent neural network\n",
    "\n",
    "This is the most important part of the assignment. Here we will specify the network architecture based on TensorFlow building blocks. It's fun and easy as a lego constructor! We will create an LSTM network which will produce probability distribution over tags for each token in a sentence. To take into account both right and left contexts of the token, we will use Bi-Directional LSTM (Bi-LSTM). Dense layer will be used on top to perform tag classification.  "
   ]
  },
  {
   "cell_type": "code",
   "execution_count": 246,
   "metadata": {},
   "outputs": [],
   "source": [
    "import keras\n",
    "from keras.models import Sequential\n",
    "from keras.layers import Dense\n",
    "from tensorflow.keras import regularizers\n",
    "from keras.optimizers import SGD\n",
    "from keras.layers import Dropout\n",
    "from keras.layers import LSTM\n",
    "from keras.layers import GRU\n",
    "from keras.layers import Bidirectional\n",
    "from keras.layers import Activation"
   ]
  },
  {
   "cell_type": "code",
   "execution_count": 287,
   "metadata": {},
   "outputs": [],
   "source": [
    "drop = 0.2\n",
    "\n",
    "#model = Sequential()\n",
    "\n",
    "#model.add(Bidirectional(LSTM(200, input_shape = (1,x_train.shape[2]))))\n",
    "#model.add(Dense(21, activation = 'softmax'))\n",
    "#model.compile(loss='categorical_crossentropy', optimizer='adam', metrics=['accuracy'])\n",
    "\n",
    " # With custom backward layer\n",
    "model = Sequential()\n",
    "model.add(Bidirectional(LSTM(200), input_shape=(1,x_train.shape[2])))\n",
    "model.add(Dropout(drop))\n",
    "model.add(Dense(21))\n",
    "model.add(Activation('softmax'))\n",
    "model.compile(loss='categorical_crossentropy', optimizer='adam',metrics=['accuracy'])"
   ]
  },
  {
   "cell_type": "code",
   "execution_count": 285,
   "metadata": {},
   "outputs": [],
   "source": [
    "repartition = 1/sum(np.concatenate((y_train,y_val)))\n",
    "repartition = repartition/sum(repartition)\n",
    "class_weight = {i : repartition[i] for i in range(21)}"
   ]
  },
  {
   "cell_type": "markdown",
   "metadata": {},
   "source": [
    "To compute the actual predictions of the neural network, you need to apply [softmax](https://www.tensorflow.org/api_docs/python/tf/nn/softmax) to the last layer and find the most probable tags with [argmax](https://www.tensorflow.org/api_docs/python/tf/argmax)."
   ]
  },
  {
   "cell_type": "markdown",
   "metadata": {},
   "source": [
    "## Train the network and predict tags"
   ]
  },
  {
   "cell_type": "markdown",
   "metadata": {
    "collapsed": true
   },
   "source": [
    "[Session.run](https://www.tensorflow.org/api_docs/python/tf/Session#run) is a point which initiates computations in the graph that we have defined. To train the network, we need to compute *self.train_op*, which was declared in *perform_optimization*. To predict tags, we just need to compute *self.predictions*. Anyway, we need to feed actual data through the placeholders that we defined before. "
   ]
  },
  {
   "cell_type": "code",
   "execution_count": 296,
   "metadata": {
    "scrolled": true
   },
   "outputs": [
    {
     "name": "stdout",
     "output_type": "stream",
     "text": [
      "Train on 243360 samples, validate on 27482 samples\n",
      "Epoch 1/5\n",
      "243360/243360 [==============================] - 67s 275us/step - loss: 0.0021 - accuracy: 0.6103 - val_loss: 1.7411 - val_accuracy: 0.5984\n",
      "Epoch 2/5\n",
      "243360/243360 [==============================] - 54s 222us/step - loss: 0.0021 - accuracy: 0.6089 - val_loss: 1.7496 - val_accuracy: 0.5963\n",
      "Epoch 3/5\n",
      "243360/243360 [==============================] - 136s 559us/step - loss: 0.0021 - accuracy: 0.6074 - val_loss: 1.7567 - val_accuracy: 0.5951\n",
      "Epoch 4/5\n",
      "243360/243360 [==============================] - 111s 456us/step - loss: 0.0021 - accuracy: 0.6057 - val_loss: 1.7634 - val_accuracy: 0.5941\n",
      "Epoch 5/5\n",
      "243360/243360 [==============================] - 101s 413us/step - loss: 0.0021 - accuracy: 0.6047 - val_loss: 1.7694 - val_accuracy: 0.5931\n"
     ]
    }
   ],
   "source": [
    "history = model.fit(x_train, y_train, validation_data = (x_val,y_val), epochs=5, batch_size=20000,class_weight=class_weight)"
   ]
  },
  {
   "cell_type": "code",
   "execution_count": 294,
   "metadata": {},
   "outputs": [
    {
     "data": {
      "image/png": "[encoded data removed]",
      "text/plain": [
       "<Figure size 432x288 with 1 Axes>"
      ]
     },
     "metadata": {
      "needs_background": "light"
     },
     "output_type": "display_data"
    }
   ],
   "source": [
    "plt.plot(history.history['loss'],label = 'train')\n",
    "plt.plot(history.history['val_loss'],label = 'test')\n",
    "plt.legend()\n",
    "plt.show()"
   ]
  },
  {
   "cell_type": "markdown",
   "metadata": {},
   "source": [
    "Implement the function *predict_for_batch* by initializing *feed_dict* with input *x_batch* and *lengths* and running the *session* for *self.predictions*."
   ]
  },
  {
   "cell_type": "markdown",
   "metadata": {},
   "source": [
    "We finished with necessary methods of our BiLSTMModel model and almost ready to start experimenting.\n",
    "\n",
    "### Evaluation \n",
    "To simplify the evaluation process we provide two functions for you:\n",
    " - *predict_tags*: uses a model to get predictions and transforms indices to tokens and tags;\n",
    " - *eval_conll*: calculates precision, recall and F1 for the results."
   ]
  },
  {
   "cell_type": "code",
   "execution_count": 290,
   "metadata": {},
   "outputs": [],
   "source": [
    "resultats = model.predict_classes(x_train)"
   ]
  },
  {
   "cell_type": "code",
   "execution_count": 295,
   "metadata": {},
   "outputs": [
    {
     "data": {
      "image/png": "[encoded data removed]",
      "text/plain": [
       "<Figure size 432x288 with 1 Axes>"
      ]
     },
     "metadata": {
      "needs_background": "light"
     },
     "output_type": "display_data"
    }
   ],
   "source": [
    "plt.hist(y_train.argmax(axis= 1),alpha = 0.5,color = 'g',label = 'labels')\n",
    "plt.hist(resultats,alpha = 0.5, color = 'r', label = 'predicted')\n",
    "plt.legend()\n",
    "plt.show()"
   ]
  },
  {
   "cell_type": "code",
   "execution_count": 282,
   "metadata": {},
   "outputs": [],
   "source": [
    "def precision(model,x_data,y_data,resultats):\n",
    "    #resultats = model.predict_classes(x_data)\n",
    "    bons = np.zeros(21)\n",
    "    len_accuracy = np.zeros(21)\n",
    "    accuracy = np.zeros(21)\n",
    "    classes = y_data.argmax(axis = 1)\n",
    "    for i in range(len(resultats)):\n",
    "        len_accuracy[resultats[i]] +=1\n",
    "        if classes[i] == resultats[i]:\n",
    "            bons[resultats[i]] += 1\n",
    "    for i in range(len(accuracy)):\n",
    "        if len_accuracy[i] == 0:\n",
    "            print(\"classe non prédite\")\n",
    "        else :\n",
    "            print(str(idx2tag[i]) + \" : Précision = \" + str(round(bons[i]/len_accuracy[i]*100)) + \"%\" + \" | predicted : \" + str(len_accuracy[i]))\n",
    "            accuracy[i] = bons[i]/len_accuracy[i]\n",
    "\n",
    "\n",
    "def print_results(model):\n",
    "    print(\"\\n------ TRAIN ------\")\n",
    "    res_train = model.predict_classes(x_train)\n",
    "    precision(model,x_train,y_train,res_train)\n",
    "    \n",
    "    print(\"\\n------ VALIDATE ------\")\n",
    "    \n",
    "    res_val = model.predict_classes(x_val)\n",
    "    precision(model,x_val,y_val,res_val)\n",
    "    \n",
    "    print(\"\\n------ TEST ------\")\n",
    "    \n",
    "    res_test = model.predict_classes(x_test)\n",
    "    precision(model,x_test,y_test,res_test)"
   ]
  },
  {
   "cell_type": "code",
   "execution_count": 292,
   "metadata": {},
   "outputs": [
    {
     "name": "stdout",
     "output_type": "stream",
     "text": [
      "\n",
      "------ TRAIN ------\n",
      "O : Précision = 97.0% | predicted : 243360.0\n",
      "classe non prédite\n",
      "classe non prédite\n",
      "classe non prédite\n",
      "classe non prédite\n",
      "classe non prédite\n",
      "classe non prédite\n",
      "classe non prédite\n",
      "classe non prédite\n",
      "classe non prédite\n",
      "classe non prédite\n",
      "classe non prédite\n",
      "classe non prédite\n",
      "classe non prédite\n",
      "classe non prédite\n",
      "classe non prédite\n",
      "classe non prédite\n",
      "classe non prédite\n",
      "classe non prédite\n",
      "classe non prédite\n",
      "classe non prédite\n",
      "\n",
      "------ VALIDATE ------\n",
      "O : Précision = 97.0% | predicted : 27482.0\n",
      "classe non prédite\n",
      "classe non prédite\n",
      "classe non prédite\n",
      "classe non prédite\n",
      "classe non prédite\n",
      "classe non prédite\n",
      "classe non prédite\n",
      "classe non prédite\n",
      "classe non prédite\n",
      "classe non prédite\n",
      "classe non prédite\n",
      "classe non prédite\n",
      "classe non prédite\n",
      "classe non prédite\n",
      "classe non prédite\n",
      "classe non prédite\n",
      "classe non prédite\n",
      "classe non prédite\n",
      "classe non prédite\n",
      "classe non prédite\n",
      "\n",
      "------ TEST ------\n",
      "O : Précision = 96.0% | predicted : 26758.0\n",
      "classe non prédite\n",
      "classe non prédite\n",
      "classe non prédite\n",
      "classe non prédite\n",
      "classe non prédite\n",
      "classe non prédite\n",
      "classe non prédite\n",
      "classe non prédite\n",
      "classe non prédite\n",
      "classe non prédite\n",
      "classe non prédite\n",
      "classe non prédite\n",
      "classe non prédite\n",
      "classe non prédite\n",
      "classe non prédite\n",
      "classe non prédite\n",
      "classe non prédite\n",
      "classe non prédite\n",
      "classe non prédite\n",
      "classe non prédite\n"
     ]
    }
   ],
   "source": [
    "print_results(model)\n"
   ]
  }
 ],
 "metadata": {
  "kernelspec": {
   "display_name": "Python 3",
   "language": "python",
   "name": "python3"
  },
  "language_info": {
   "codemirror_mode": {
    "name": "ipython",
    "version": 3
   },
   "file_extension": ".py",
   "mimetype": "text/x-python",
   "name": "python",
   "nbconvert_exporter": "python",
   "pygments_lexer": "ipython3",
   "version": "3.7.3"
  }
 },
 "nbformat": 4,
 "nbformat_minor": 1
}
